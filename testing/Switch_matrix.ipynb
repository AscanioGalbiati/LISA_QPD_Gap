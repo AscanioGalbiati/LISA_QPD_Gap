{
 "cells": [
  {
   "cell_type": "code",
   "execution_count": 220,
   "metadata": {},
   "outputs": [],
   "source": [
    "import pyvisa\n",
    "import time\n",
    "import numpy as np\n",
    "import serial\n",
    "import pylab as pl\n",
    "from matplotlib import cm\n",
    "from scipy.optimize import curve_fit\n",
    "import scipy\n",
    "%matplotlib inline"
   ]
  },
  {
   "cell_type": "code",
   "execution_count": 221,
   "metadata": {},
   "outputs": [
    {
     "data": {
      "text/plain": [
       "('USB0::0x1313::0x8078::P0018700::INSTR',\n",
       " 'USB0::0x1313::0x8078::P0018700::INSTR',\n",
       " 'TCPIP0::A-34461A-00000.local::hislip0::INSTR',\n",
       " 'TCPIP0::A-34461A-00000.local::inst0::INSTR',\n",
       " 'TCPIP0::A-34461A-0000-2.local::hislip0::INSTR',\n",
       " 'TCPIP0::A-34461A-0000-2.local::inst0::INSTR',\n",
       " 'TCPIP0::A-33600-00000.local::inst0::INSTR',\n",
       " 'ASRL3::INSTR',\n",
       " 'ASRL4::INSTR',\n",
       " 'ASRL5::INSTR',\n",
       " 'ASRL6::INSTR',\n",
       " 'ASRL8::INSTR',\n",
       " 'ASRL11::INSTR')"
      ]
     },
     "execution_count": 221,
     "metadata": {},
     "output_type": "execute_result"
    }
   ],
   "source": [
    "rm = pyvisa.ResourceManager()\n",
    "rm.list_resources()"
   ]
  },
  {
   "cell_type": "code",
   "execution_count": 222,
   "metadata": {},
   "outputs": [],
   "source": [
    "ser2 = serial.Serial('COM5', 19200, timeout=1)"
   ]
  },
  {
   "cell_type": "code",
   "execution_count": 223,
   "metadata": {},
   "outputs": [
    {
     "name": "stdout",
     "output_type": "stream",
     "text": [
      "b''\n"
     ]
    }
   ],
   "source": [
    "ser2.write(b'++addr7\\r')  \n",
    "s = ser2.read(20)\n",
    "print(s)"
   ]
  },
  {
   "cell_type": "code",
   "execution_count": 224,
   "metadata": {},
   "outputs": [
    {
     "name": "stdout",
     "output_type": "stream",
     "text": [
      "b'(-420:-410,+0:+174)\\n'\n"
     ]
    }
   ],
   "source": [
    "ser2.write_termination = ''\n",
    "ser2.write(b':stat:que:dis (-410,-420)\\n')\n",
    "ser2.write(b':stat:que:dis?\\n')\n",
    "s = ser2.read(100)\n",
    "print(s)"
   ]
  },
  {
   "cell_type": "code",
   "execution_count": 225,
   "metadata": {},
   "outputs": [
    {
     "name": "stdout",
     "output_type": "stream",
     "text": [
      "qqaaa\n"
     ]
    }
   ],
   "source": [
    "# Close all Card1 channels\n",
    "ser2.write(b':open all\\n')\n",
    "ser2.write(b':clos (@ 1!1)\\n')\n",
    "ser2.write(b':clos (@ 1!11)\\n')\n",
    "ser2.write(b':clos (@ 1!21)\\n')\n",
    "ser2.write(b':clos (@ 1!31)\\n')\n",
    "ser2.write(b':clos (@ 1!2)\\n')\n",
    "ser2.write(b':clos (@ 1!12)\\n')\n",
    "ser2.write(b':clos (@ 1!22)\\n')\n",
    "ser2.write(b':clos (@ 1!32)\\n')\n",
    "ser2.write(b':clos (@ 1!3)\\n')\n",
    "ser2.write(b':clos (@ 1!13)\\n')\n",
    "ser2.write(b':clos (@ 1!23)\\n')\n",
    "ser2.write(b':clos (@ 1!33)\\n')\n",
    "ser2.write(b':clos (@ 1!4)\\n')\n",
    "ser2.write(b':clos (@ 1!14)\\n')\n",
    "ser2.write(b':clos (@ 1!24)\\n')\n",
    "ser2.write(b':clos (@ 1!34)\\n')\n",
    "ser2.write(b':clos (@ 1!5)\\n')\n",
    "ser2.write(b':clos (@ 1!15)\\n')\n",
    "ser2.write(b':clos (@ 1!25)\\n')\n",
    "ser2.write(b':clos (@ 1!35)\\n')\n",
    "ser2.write(b':clos (@ 1!6)\\n')\n",
    "ser2.write(b':clos (@ 1!16)\\n')\n",
    "ser2.write(b':clos (@ 1!26)\\n')\n",
    "ser2.write(b':clos (@ 1!36)\\n')\n",
    "ser2.write(b':clos (@ 1!7)\\n')\n",
    "ser2.write(b':clos (@ 1!17)\\n')\n",
    "ser2.write(b':clos (@ 1!27)\\n')\n",
    "ser2.write(b':clos (@ 1!37)\\n')\n",
    "ser2.write(b':clos (@ 1!8)\\n')\n",
    "ser2.write(b':clos (@ 1!18)\\n')\n",
    "ser2.write(b':clos (@ 1!28)\\n')\n",
    "ser2.write(b':clos (@ 1!38)\\n')\n",
    "ser2.write(b':clos (@ 1!9)\\n')\n",
    "ser2.write(b':clos (@ 1!19)\\n')\n",
    "ser2.write(b':clos (@ 1!29)\\n')\n",
    "ser2.write(b':clos (@ 1!39)\\n')\n",
    "ser2.write(b':clos (@ 1!10)\\n')\n",
    "ser2.write(b':clos (@ 1!20)\\n')\n",
    "ser2.write(b':clos (@ 1!30)\\n')\n",
    "ser2.write(b':clos (@ 1!40)\\n')\n",
    "print(\"qqaaa\")"
   ]
  },
  {
   "cell_type": "code",
   "execution_count": 170,
   "metadata": {},
   "outputs": [
    {
     "name": "stdout",
     "output_type": "stream",
     "text": [
      "qqaaa\n"
     ]
    }
   ],
   "source": [
    "# Close all Card2 channels\n",
    "ser2.write(b':open all\\n')\n",
    "ser2.write(b':clos (@ 2!1)\\n')\n",
    "ser2.write(b':clos (@ 2!11)\\n')\n",
    "ser2.write(b':clos (@ 2!21)\\n')\n",
    "ser2.write(b':clos (@ 2!31)\\n')\n",
    "ser2.write(b':clos (@ 2!2)\\n')\n",
    "ser2.write(b':clos (@ 2!12)\\n')\n",
    "ser2.write(b':clos (@ 2!22)\\n')\n",
    "ser2.write(b':clos (@ 2!32)\\n')\n",
    "ser2.write(b':clos (@ 2!3)\\n')\n",
    "ser2.write(b':clos (@ 2!13)\\n')\n",
    "ser2.write(b':clos (@ 2!23)\\n')\n",
    "ser2.write(b':clos (@ 2!33)\\n')\n",
    "ser2.write(b':clos (@ 2!4)\\n')\n",
    "ser2.write(b':clos (@ 2!14)\\n')\n",
    "ser2.write(b':clos (@ 2!24)\\n')\n",
    "ser2.write(b':clos (@ 2!34)\\n')\n",
    "ser2.write(b':clos (@ 2!5)\\n')\n",
    "ser2.write(b':clos (@ 2!15)\\n')\n",
    "ser2.write(b':clos (@ 2!25)\\n')\n",
    "ser2.write(b':clos (@ 2!35)\\n')\n",
    "ser2.write(b':clos (@ 2!6)\\n')\n",
    "ser2.write(b':clos (@ 2!16)\\n')\n",
    "ser2.write(b':clos (@ 2!26)\\n')\n",
    "ser2.write(b':clos (@ 2!36)\\n')\n",
    "ser2.write(b':clos (@ 2!7)\\n')\n",
    "ser2.write(b':clos (@ 2!17)\\n')\n",
    "ser2.write(b':clos (@ 2!27)\\n')\n",
    "ser2.write(b':clos (@ 2!37)\\n')\n",
    "ser2.write(b':clos (@ 2!8)\\n')\n",
    "ser2.write(b':clos (@ 2!18)\\n')\n",
    "ser2.write(b':clos (@ 2!28)\\n')\n",
    "ser2.write(b':clos (@ 2!38)\\n')\n",
    "ser2.write(b':clos (@ 2!9)\\n')\n",
    "ser2.write(b':clos (@ 2!19)\\n')\n",
    "ser2.write(b':clos (@ 2!29)\\n')\n",
    "ser2.write(b':clos (@ 2!39)\\n')\n",
    "ser2.write(b':clos (@ 2!10)\\n')\n",
    "ser2.write(b':clos (@ 2!20)\\n')\n",
    "ser2.write(b':clos (@ 2!30)\\n')\n",
    "ser2.write(b':clos (@ 2!40)\\n')\n",
    "print(\"qqaaa\")"
   ]
  },
  {
   "cell_type": "code",
   "execution_count": 171,
   "metadata": {},
   "outputs": [
    {
     "name": "stdout",
     "output_type": "stream",
     "text": [
      "qqaaa\n"
     ]
    }
   ],
   "source": [
    "# Close all Card1 and Card2 channels\n",
    "ser2.write(b':open all\\n')\n",
    "ser2.write(b':clos (@ 1!1)\\n')\n",
    "ser2.write(b':clos (@ 1!11)\\n')\n",
    "ser2.write(b':clos (@ 1!21)\\n')\n",
    "ser2.write(b':clos (@ 1!31)\\n')\n",
    "ser2.write(b':clos (@ 1!2)\\n')\n",
    "ser2.write(b':clos (@ 1!12)\\n')\n",
    "ser2.write(b':clos (@ 1!22)\\n')\n",
    "ser2.write(b':clos (@ 1!32)\\n')\n",
    "ser2.write(b':clos (@ 1!3)\\n')\n",
    "ser2.write(b':clos (@ 1!13)\\n')\n",
    "ser2.write(b':clos (@ 1!23)\\n')\n",
    "ser2.write(b':clos (@ 1!33)\\n')\n",
    "ser2.write(b':clos (@ 1!4)\\n')\n",
    "ser2.write(b':clos (@ 1!14)\\n')\n",
    "ser2.write(b':clos (@ 1!24)\\n')\n",
    "ser2.write(b':clos (@ 1!34)\\n')\n",
    "ser2.write(b':clos (@ 1!5)\\n')\n",
    "ser2.write(b':clos (@ 1!15)\\n')\n",
    "ser2.write(b':clos (@ 1!25)\\n')\n",
    "ser2.write(b':clos (@ 1!35)\\n')\n",
    "ser2.write(b':clos (@ 1!6)\\n')\n",
    "ser2.write(b':clos (@ 1!16)\\n')\n",
    "ser2.write(b':clos (@ 1!26)\\n')\n",
    "ser2.write(b':clos (@ 1!36)\\n')\n",
    "ser2.write(b':clos (@ 1!7)\\n')\n",
    "ser2.write(b':clos (@ 1!17)\\n')\n",
    "ser2.write(b':clos (@ 1!27)\\n')\n",
    "ser2.write(b':clos (@ 1!37)\\n')\n",
    "ser2.write(b':clos (@ 1!8)\\n')\n",
    "ser2.write(b':clos (@ 1!18)\\n')\n",
    "ser2.write(b':clos (@ 1!28)\\n')\n",
    "ser2.write(b':clos (@ 1!38)\\n')\n",
    "ser2.write(b':clos (@ 1!9)\\n')\n",
    "ser2.write(b':clos (@ 1!19)\\n')\n",
    "ser2.write(b':clos (@ 1!29)\\n')\n",
    "ser2.write(b':clos (@ 1!39)\\n')\n",
    "ser2.write(b':clos (@ 1!10)\\n')\n",
    "ser2.write(b':clos (@ 1!20)\\n')\n",
    "ser2.write(b':clos (@ 1!30)\\n')\n",
    "ser2.write(b':clos (@ 1!40)\\n')\n",
    "ser2.write(b':clos (@ 2!1)\\n')\n",
    "ser2.write(b':clos (@ 2!11)\\n')\n",
    "ser2.write(b':clos (@ 2!21)\\n')\n",
    "ser2.write(b':clos (@ 2!31)\\n')\n",
    "ser2.write(b':clos (@ 2!2)\\n')\n",
    "ser2.write(b':clos (@ 2!12)\\n')\n",
    "ser2.write(b':clos (@ 2!22)\\n')\n",
    "ser2.write(b':clos (@ 2!32)\\n')\n",
    "ser2.write(b':clos (@ 2!3)\\n')\n",
    "ser2.write(b':clos (@ 2!13)\\n')\n",
    "ser2.write(b':clos (@ 2!23)\\n')\n",
    "ser2.write(b':clos (@ 2!33)\\n')\n",
    "ser2.write(b':clos (@ 2!4)\\n')\n",
    "ser2.write(b':clos (@ 2!14)\\n')\n",
    "ser2.write(b':clos (@ 2!24)\\n')\n",
    "ser2.write(b':clos (@ 2!34)\\n')\n",
    "ser2.write(b':clos (@ 2!5)\\n')\n",
    "ser2.write(b':clos (@ 2!15)\\n')\n",
    "ser2.write(b':clos (@ 2!25)\\n')\n",
    "ser2.write(b':clos (@ 2!35)\\n')\n",
    "ser2.write(b':clos (@ 2!6)\\n')\n",
    "ser2.write(b':clos (@ 2!16)\\n')\n",
    "ser2.write(b':clos (@ 2!26)\\n')\n",
    "ser2.write(b':clos (@ 2!36)\\n')\n",
    "ser2.write(b':clos (@ 2!7)\\n')\n",
    "ser2.write(b':clos (@ 2!17)\\n')\n",
    "ser2.write(b':clos (@ 2!27)\\n')\n",
    "ser2.write(b':clos (@ 2!37)\\n')\n",
    "ser2.write(b':clos (@ 2!8)\\n')\n",
    "ser2.write(b':clos (@ 2!18)\\n')\n",
    "ser2.write(b':clos (@ 2!28)\\n')\n",
    "ser2.write(b':clos (@ 2!38)\\n')\n",
    "ser2.write(b':clos (@ 2!9)\\n')\n",
    "ser2.write(b':clos (@ 2!19)\\n')\n",
    "ser2.write(b':clos (@ 2!29)\\n')\n",
    "ser2.write(b':clos (@ 2!39)\\n')\n",
    "ser2.write(b':clos (@ 2!10)\\n')\n",
    "ser2.write(b':clos (@ 2!20)\\n')\n",
    "ser2.write(b':clos (@ 2!30)\\n')\n",
    "ser2.write(b':clos (@ 2!40)\\n')\n",
    "print(\"qqaaa\")"
   ]
  },
  {
   "cell_type": "code",
   "execution_count": 226,
   "metadata": {},
   "outputs": [
    {
     "name": "stdout",
     "output_type": "stream",
     "text": [
      "qqaaa\n"
     ]
    }
   ],
   "source": [
    "# Card 1: IN3-OUT1 connection\n",
    "ser2.write(b':open all\\n')\n",
    "ser2.write(b':clos (@ 1!39)\\n')\n",
    "ser2.write(b':clos (@ 1!40)\\n') \n",
    "print(\"qqaaa\")"
   ]
  },
  {
   "cell_type": "code",
   "execution_count": 227,
   "metadata": {},
   "outputs": [
    {
     "name": "stdout",
     "output_type": "stream",
     "text": [
      "qqaaa\n"
     ]
    }
   ],
   "source": [
    "# Card1: IN4-OUT1 connection\n",
    "ser2.write(b':open all\\n')\n",
    "ser2.write(b':clos (@ 1!38)\\n')\n",
    "ser2.write(b':clos (@ 1!39)\\n')\n",
    "print(\"qqaaa\")"
   ]
  },
  {
   "cell_type": "code",
   "execution_count": 134,
   "metadata": {},
   "outputs": [
    {
     "name": "stdout",
     "output_type": "stream",
     "text": [
      "qqaaa\n"
     ]
    }
   ],
   "source": [
    "# Card1: IN3-OUT2 connection\n",
    "ser2.write(b':open all\\n')\n",
    "ser2.write(b':clos (@ 1!29)\\n')\n",
    "ser2.write(b':clos (@ 1!30)\\n')\n",
    "print(\"qqaaa\")"
   ]
  },
  {
   "cell_type": "code",
   "execution_count": 135,
   "metadata": {},
   "outputs": [
    {
     "name": "stdout",
     "output_type": "stream",
     "text": [
      "qqaaa\n"
     ]
    }
   ],
   "source": [
    "# Card1: IN4-OUT2 connection\n",
    "ser2.write(b':open all\\n')\n",
    "ser2.write(b':clos (@ 1!28)\\n')\n",
    "ser2.write(b':clos (@ 1!29)\\n')\n",
    "print(\"qqaaa\")"
   ]
  },
  {
   "cell_type": "code",
   "execution_count": 136,
   "metadata": {},
   "outputs": [
    {
     "name": "stdout",
     "output_type": "stream",
     "text": [
      "qqaaa\n"
     ]
    }
   ],
   "source": [
    "# Card2: IN3 OUT1 connection\n",
    "ser2.write(b':open all\\n')\n",
    "ser2.write(b':clos (@ 2!39)\\n')\n",
    "ser2.write(b':clos (@ 2!40)\\n') \n",
    "print(\"qqaaa\")"
   ]
  },
  {
   "cell_type": "code",
   "execution_count": 137,
   "metadata": {},
   "outputs": [
    {
     "name": "stdout",
     "output_type": "stream",
     "text": [
      "qqaaa\n"
     ]
    }
   ],
   "source": [
    "# Card2: IN4-OUT1 connection\n",
    "ser2.write(b':open all\\n')\n",
    "ser2.write(b':clos (@ 2!38)\\n')\n",
    "ser2.write(b':clos (@ 2!39)\\n')\n",
    "print(\"qqaaa\")"
   ]
  },
  {
   "cell_type": "code",
   "execution_count": 15,
   "metadata": {},
   "outputs": [
    {
     "name": "stdout",
     "output_type": "stream",
     "text": [
      "qqaaa\n"
     ]
    }
   ],
   "source": [
    "# Card2: IN3-OUT2 connection\n",
    "ser2.write(b':open all\\n')\n",
    "ser2.write(b':clos (@ 2!29)\\n')\n",
    "ser2.write(b':clos (@ 2!30)\\n')\n",
    "print(\"qqaaa\")"
   ]
  },
  {
   "cell_type": "code",
   "execution_count": 16,
   "metadata": {},
   "outputs": [
    {
     "name": "stdout",
     "output_type": "stream",
     "text": [
      "qqaaa\n"
     ]
    }
   ],
   "source": [
    "# Card2: IN4-OUT2 connection\n",
    "ser2.write(b':open all\\n')\n",
    "ser2.write(b':clos (@ 2!28)\\n')\n",
    "ser2.write(b':clos (@ 2!29)\\n')\n",
    "print(\"qqaaa\")"
   ]
  },
  {
   "cell_type": "code",
   "execution_count": 229,
   "metadata": {},
   "outputs": [],
   "source": [
    "ser2.close()"
   ]
  },
  {
   "cell_type": "code",
   "execution_count": null,
   "metadata": {},
   "outputs": [],
   "source": []
  },
  {
   "cell_type": "code",
   "execution_count": null,
   "metadata": {},
   "outputs": [],
   "source": []
  },
  {
   "cell_type": "code",
   "execution_count": null,
   "metadata": {},
   "outputs": [],
   "source": []
  },
  {
   "cell_type": "code",
   "execution_count": null,
   "metadata": {},
   "outputs": [],
   "source": []
  },
  {
   "cell_type": "code",
   "execution_count": null,
   "metadata": {},
   "outputs": [],
   "source": [
    "\n"
   ]
  }
 ],
 "metadata": {
  "kernelspec": {
   "display_name": "Python 3 (ipykernel)",
   "language": "python",
   "name": "python3"
  },
  "language_info": {
   "codemirror_mode": {
    "name": "ipython",
    "version": 3
   },
   "file_extension": ".py",
   "mimetype": "text/x-python",
   "name": "python",
   "nbconvert_exporter": "python",
   "pygments_lexer": "ipython3",
   "version": "3.12.10"
  }
 },
 "nbformat": 4,
 "nbformat_minor": 4
}
